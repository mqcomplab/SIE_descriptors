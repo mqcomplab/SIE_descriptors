{
  "cells": [
    {
      "attachments": {},
      "cell_type": "markdown",
      "metadata": {
        "id": "4QJ6I2s7odX1"
      },
      "source": [
        "# Formulas Visualization with latexify"
      ]
    },
    {
      "attachments": {},
      "cell_type": "markdown",
      "metadata": {},
      "source": [
        "All the formulas in this notebook are rendered using the [latexify](https://github.com/google/latexify_py).\n",
        "\n",
        "Visualize formulas from `modules/formulas.py` with latexify."
      ]
    },
    {
      "cell_type": "code",
      "execution_count": 4,
      "metadata": {
        "colab": {
          "base_uri": "https://localhost:8080/"
        },
        "id": "UNzMf6_MiKG3",
        "outputId": "2e623a19-7a64-4091-907a-bceabfcc9953"
      },
      "outputs": [
        {
          "name": "stdout",
          "output_type": "stream",
          "text": [
            "Requirement already satisfied: latexify-py==0.2.0 in c:\\users\\lexin\\appdata\\local\\packages\\pythonsoftwarefoundation.python.3.10_qbz5n2kfra8p0\\localcache\\local-packages\\python310\\site-packages (0.2.0)\n",
            "Requirement already satisfied: dill>=0.3.2 in c:\\users\\lexin\\appdata\\local\\packages\\pythonsoftwarefoundation.python.3.10_qbz5n2kfra8p0\\localcache\\local-packages\\python310\\site-packages (from latexify-py==0.2.0) (0.3.6)\n"
          ]
        },
        {
          "name": "stderr",
          "output_type": "stream",
          "text": [
            "\n",
            "[notice] A new release of pip available: 22.3 -> 23.0.1\n",
            "[notice] To update, run: C:\\Users\\lexin\\AppData\\Local\\Microsoft\\WindowsApps\\PythonSoftwareFoundation.Python.3.10_qbz5n2kfra8p0\\python.exe -m pip install --upgrade pip\n"
          ]
        }
      ],
      "source": [
        "# Restart the runtime before running the examples below.\n",
        "!pip install latexify-py==0.2.0"
      ]
    },
    {
      "cell_type": "code",
      "execution_count": 5,
      "metadata": {
        "id": "YNTd0qTFiGbW"
      },
      "outputs": [],
      "source": [
        "import latexify"
      ]
    },
    {
      "cell_type": "code",
      "execution_count": null,
      "metadata": {
        "colab": {
          "base_uri": "https://localhost:8080/",
          "height": 72
        },
        "id": "Ai6laPS4M95U",
        "outputId": "e4e2db0c-379d-45a3-a2f5-febd84638ef6"
      },
      "outputs": [
        {
          "data": {
            "text/latex": [
              "$$ \\displaystyle \\frac{m \\frac{-\\left( \\frac{-\\left( -homo - lumo \\right)}{{2}} \\right)}{-homo + lumo}}{\\left( -homo + lumo \\right)^{-{1}}} + b $$"
            ],
            "text/plain": [
              "<latexify.frontend.LatexifiedFunction at 0x7fb7705dcdf0>"
            ]
          },
          "execution_count": 3,
          "metadata": {},
          "output_type": "execute_result"
        }
      ],
      "source": [
        "@latexify.expression(use_math_symbols=True)\n",
        "def Q1R1(X, m, b):\n",
        "  return m * (-(-(-homo - lumo)/2)/(-homo + lumo))/((-homo+lumo) ** -1) + b\n",
        "Q1R1"
      ]
    },
    {
      "cell_type": "code",
      "execution_count": null,
      "metadata": {
        "colab": {
          "base_uri": "https://localhost:8080/",
          "height": 69
        },
        "id": "TK4cJagLOhZd",
        "outputId": "178ba65a-93e2-43d2-d5fb-0e9348e83566"
      },
      "outputs": [
        {
          "data": {
            "text/latex": [
              "$$ \\displaystyle \\frac{m \\frac{-\\left( \\frac{-\\left( -homo - lumo \\right)}{{2}} \\right)}{-homo + lumo}}{\\left( -homo + lumo \\right)^{{\\alpha}}} + b $$"
            ],
            "text/plain": [
              "<latexify.frontend.LatexifiedFunction at 0x7f51fe5dad90>"
            ]
          },
          "execution_count": 70,
          "metadata": {},
          "output_type": "execute_result"
        }
      ],
      "source": [
        "@latexify.expression(use_math_symbols=True)\n",
        "def Q1R2(X, m, b):\n",
        "  return m * (-(-(-homo - lumo)/2)/(-homo + lumo))/((-homo+lumo) ** alpha) + b\n",
        "Q1R2"
      ]
    },
    {
      "cell_type": "code",
      "execution_count": null,
      "metadata": {
        "colab": {
          "base_uri": "https://localhost:8080/",
          "height": 72
        },
        "id": "2GkwXZhUOuVc",
        "outputId": "b7f4e056-3708-4fa1-8942-f792e2bdb4a6"
      },
      "outputs": [
        {
          "data": {
            "text/latex": [
              "$$ \\displaystyle \\frac{m \\frac{-\\left( \\frac{-\\left( -homo {\\gamma} - lumo \\right)}{{1} + {\\gamma}} \\right)}{-homo + lumo}}{\\left( -homo + lumo \\right)^{-{1}}} + b $$"
            ],
            "text/plain": [
              "<latexify.frontend.LatexifiedFunction at 0x7f51fdb6ba60>"
            ]
          },
          "execution_count": 53,
          "metadata": {},
          "output_type": "execute_result"
        }
      ],
      "source": [
        "@latexify.expression(use_math_symbols=True)\n",
        "def Q2R1(X, m, b, gamma):\n",
        "  return m * (-(-(-homo*gamma-lumo)/(1+gamma))/(-homo+lumo))/((-homo+lumo) ** -1) + b\n",
        "Q2R1"
      ]
    },
    {
      "cell_type": "code",
      "execution_count": null,
      "metadata": {
        "colab": {
          "base_uri": "https://localhost:8080/",
          "height": 70
        },
        "id": "14bL-28mPUbn",
        "outputId": "b8dcb761-053a-47fc-89a2-f98924ed9802"
      },
      "outputs": [
        {
          "data": {
            "text/latex": [
              "$$ \\displaystyle \\frac{m \\frac{-\\left( \\frac{-\\left( -homo {\\gamma} - lumo \\right)}{{1} + {\\gamma}} \\right)}{-homo + lumo}}{\\left( -homo + lumo \\right)^{{\\alpha}}} + b $$"
            ],
            "text/plain": [
              "<latexify.frontend.LatexifiedFunction at 0x7f51fe5da250>"
            ]
          },
          "execution_count": 52,
          "metadata": {},
          "output_type": "execute_result"
        }
      ],
      "source": [
        "@latexify.expression(use_math_symbols=True)\n",
        "def Q2R2(X, m, b, gamma, alpha):\n",
        "  return m * (-(-(-homo*gamma-lumo)/(1+gamma))/(-homo+lumo))/((-homo+lumo) ** alpha) + b\n",
        "Q2R2"
      ]
    },
    {
      "cell_type": "code",
      "execution_count": null,
      "metadata": {
        "colab": {
          "base_uri": "https://localhost:8080/",
          "height": 83
        },
        "id": "hZcr8FrwPXCp",
        "outputId": "b868dda2-c565-4fc6-c32c-1343606a015f"
      },
      "outputs": [
        {
          "data": {
            "text/latex": [
              "$$ \\displaystyle \\frac{m \\left( -\\left( \\frac{\\frac{-\\left( -homo - lumo \\right)}{{2}}}{-homo + lumo} \\right) - \\frac{\\left( \\frac{-\\left( -homo - lumo \\right)}{{2}} \\right)^{{2}}}{\\left( {2} \\left( -homo + lumo \\right) \\right)^{{3}}} \\left( -{2} homo + lumo + homo1 \\right) \\right)}{\\left( -homo + lumo \\right)^{-{1}}} + b $$"
            ],
            "text/plain": [
              "<latexify.frontend.LatexifiedFunction at 0x7f51fda97430>"
            ]
          },
          "execution_count": 51,
          "metadata": {},
          "output_type": "execute_result"
        }
      ],
      "source": [
        "@latexify.expression(use_math_symbols=True)\n",
        "def Q3R1(X, m, b):\n",
        "  return m * (- (-(-homo-lumo)/2/(-homo+lumo)) - ((-(-homo-lumo)/2) ** 2 / ( 2 * (-homo + lumo)) ** 3) * (-2*homo + lumo + homo1))/((-homo+lumo) ** -1) + b\n",
        "\n",
        "Q3R1"
      ]
    },
    {
      "cell_type": "code",
      "execution_count": null,
      "metadata": {
        "colab": {
          "base_uri": "https://localhost:8080/",
          "height": 80
        },
        "id": "pOHT_Y6qPZro",
        "outputId": "60f2dd3e-eb68-47fe-f95c-5bee721db4ed"
      },
      "outputs": [
        {
          "data": {
            "text/latex": [
              "$$ \\displaystyle \\frac{m \\left( -\\left( \\frac{\\frac{-\\left( -homo - lumo \\right)}{{2}}}{-homo + lumo} \\right) - \\frac{\\left( \\frac{-\\left( -homo - lumo \\right)}{{2}} \\right)^{{2}}}{\\left( {2} \\left( -homo + lumo \\right) \\right)^{{3}}} \\left( -{2} homo + lumo + homo1 \\right) \\right)}{\\left( -homo + lumo \\right)^{{\\alpha}}} + b $$"
            ],
            "text/plain": [
              "<latexify.frontend.LatexifiedFunction at 0x7f51fdb094f0>"
            ]
          },
          "execution_count": 50,
          "metadata": {},
          "output_type": "execute_result"
        }
      ],
      "source": [
        "@latexify.expression(use_math_symbols=True)\n",
        "def Q3R2(X, m, b, alpha):\n",
        "  return m * (- (-(-homo-lumo)/2/(-homo+lumo)) - ((-(-homo-lumo)/2) ** 2 / ( 2 * (-homo + lumo)) ** 3) * (-2*homo + lumo + homo1))/((-homo+lumo) ** alpha) + b\n",
        "\n",
        "Q3R2"
      ]
    },
    {
      "cell_type": "code",
      "execution_count": null,
      "metadata": {
        "colab": {
          "base_uri": "https://localhost:8080/",
          "height": 83
        },
        "id": "qgzRbE6oPc1O",
        "outputId": "140c8e69-eb34-4e3d-bdaf-78c571d19b1c"
      },
      "outputs": [
        {
          "data": {
            "text/latex": [
              "$$ \\displaystyle \\frac{m \\left( \\frac{-\\left( \\frac{-\\left( -homo - lumo \\right)}{{2}} \\right)}{-homo + lumo} - h \\frac{\\left( \\frac{-\\left( -homo - lumo \\right)}{{2}} \\right)^{{2}}}{{2} \\left( -homo + lumo \\right)^{{3}}} \\right)}{\\left( -homo + lumo \\right)^{-{1}}} + b $$"
            ],
            "text/plain": [
              "<latexify.frontend.LatexifiedFunction at 0x7f51fdb09940>"
            ]
          },
          "execution_count": 71,
          "metadata": {},
          "output_type": "execute_result"
        }
      ],
      "source": [
        "@latexify.expression(use_math_symbols=True)\n",
        "def Q4R1(X, m, b, h):\n",
        "  return m * ( -(-(-homo - lumo)/2)/(-homo + lumo) - h * ((-(-homo - lumo)/2) ** 2 /(2 * (-homo + lumo) ** 3)) ) / ((-homo+lumo) ** -1) + b\n",
        "\n",
        "Q4R1"
      ]
    },
    {
      "cell_type": "code",
      "execution_count": null,
      "metadata": {
        "colab": {
          "base_uri": "https://localhost:8080/",
          "height": 80
        },
        "id": "sR9I5D8lPen2",
        "outputId": "7b18f927-9b0b-4189-868c-7a449523dec9"
      },
      "outputs": [
        {
          "data": {
            "text/latex": [
              "$$ \\displaystyle \\frac{m \\left( \\frac{-\\left( \\frac{-\\left( -homo - lumo \\right)}{{2}} \\right)}{-homo + lumo} - h \\frac{\\left( \\frac{-\\left( -homo - lumo \\right)}{{2}} \\right)^{{2}}}{{2} \\left( -homo + lumo \\right)^{{3}}} \\right)}{\\left( -homo + lumo \\right)^{{\\alpha}}} + b $$"
            ],
            "text/plain": [
              "<latexify.frontend.LatexifiedFunction at 0x7f51fdb6f610>"
            ]
          },
          "execution_count": 72,
          "metadata": {},
          "output_type": "execute_result"
        }
      ],
      "source": [
        "@latexify.expression(use_math_symbols=True)\n",
        "def Q4R2(X, m, b, h, alpha):\n",
        "  return m * ( -(-(-homo - lumo)/2)/(-homo + lumo) - h * ((-(-homo - lumo)/2) ** 2 /(2 * (-homo + lumo) ** 3)) ) / ((-homo+lumo) ** alpha) + b\n",
        "\n",
        "Q4R2"
      ]
    },
    {
      "cell_type": "code",
      "execution_count": null,
      "metadata": {
        "colab": {
          "base_uri": "https://localhost:8080/",
          "height": 83
        },
        "id": "Ut2mipsRPh9A",
        "outputId": "93e5b041-8bdc-45ca-b4c5-6339977a24f3"
      },
      "outputs": [
        {
          "data": {
            "text/latex": [
              "$$ \\displaystyle \\frac{m \\left( \\frac{-\\left( \\frac{-\\left( -homo - lumo \\right)}{{2}} \\right)}{-homo + lumo} - a \\frac{\\left( \\frac{-\\left( -homo - lumo \\right)}{{2}} \\right)^{{2}}}{{2} \\left( -homo + lumo \\right)^{{2}}} \\right)}{\\left( -homo + lumo \\right)^{-{1}}} + b $$"
            ],
            "text/plain": [
              "<latexify.frontend.LatexifiedFunction at 0x7f51fda979d0>"
            ]
          },
          "execution_count": 47,
          "metadata": {},
          "output_type": "execute_result"
        }
      ],
      "source": [
        "@latexify.expression(use_math_symbols=True)\n",
        "def Q5R1(X, m, b, a):\n",
        "  return m * ( -(-(-homo - lumo)/2)/(-homo + lumo) - a * ((-(-homo - lumo)/2) ** 2 /(2 * (-homo + lumo) ** 2)) ) / ((-homo+lumo) ** -1) + b\n",
        "\n",
        "Q5R1"
      ]
    },
    {
      "cell_type": "code",
      "execution_count": null,
      "metadata": {
        "colab": {
          "base_uri": "https://localhost:8080/",
          "height": 80
        },
        "id": "OPIrgjXNPjzO",
        "outputId": "062d03ee-fd47-46cf-aa74-eb4aab570d32"
      },
      "outputs": [
        {
          "data": {
            "text/latex": [
              "$$ \\displaystyle \\frac{m \\left( \\frac{-\\left( \\frac{-\\left( -homo - lumo \\right)}{{2}} \\right)}{-homo + lumo} - a \\frac{\\left( \\frac{-\\left( -homo - lumo \\right)}{{2}} \\right)^{{2}}}{{2} \\left( -homo + lumo \\right)^{{2}}} \\right)}{\\left( -homo + lumo \\right)^{{\\alpha}}} + b $$"
            ],
            "text/plain": [
              "<latexify.frontend.LatexifiedFunction at 0x7f51fda97ca0>"
            ]
          },
          "execution_count": 74,
          "metadata": {},
          "output_type": "execute_result"
        }
      ],
      "source": [
        "@latexify.expression(use_math_symbols=True)\n",
        "def Q5R2(X, m, b, a, alpha):\n",
        "  return m * ( -(-(-homo - lumo)/2)/(-homo + lumo) - a * ((-(-homo - lumo)/2) **2 /(2 * (-homo + lumo) ** 2)) ) / ((-homo+lumo) ** alpha) + b\n",
        "\n",
        "Q5R2"
      ]
    },
    {
      "cell_type": "code",
      "execution_count": null,
      "metadata": {
        "colab": {
          "base_uri": "https://localhost:8080/",
          "height": 83
        },
        "id": "cPl2ww3XPl7-",
        "outputId": "4b34f051-2156-4666-ff5f-5bb54b96cdc6"
      },
      "outputs": [
        {
          "data": {
            "text/latex": [
              "$$ \\displaystyle \\frac{m \\left( \\frac{-\\left( \\frac{-\\left( -homo {\\gamma} - lumo \\right)}{{1} + {\\gamma}} \\right)}{{\\xi} \\left( -homo + lumo \\right)} - \\frac{\\left( \\frac{-\\left( -homo {\\gamma} - lumo \\right)}{{2}} \\right)^{{2}}}{{2} {\\xi}^{{3}} \\left( -homo + lumo \\right)^{{3}}} \\left( -{2} homo + lumo + homo1 \\right) \\right)}{\\left( -homo + lumo \\right)^{-{1}}} + b $$"
            ],
            "text/plain": [
              "<latexify.frontend.LatexifiedFunction at 0x7f51fdb09310>"
            ]
          },
          "execution_count": 75,
          "metadata": {},
          "output_type": "execute_result"
        }
      ],
      "source": [
        "@latexify.expression(use_math_symbols=True)\n",
        "def Q6R1(X, m, b, gamma,xi):\n",
        "  return m * ((-(-(-homo*gamma-lumo)/(1+gamma))/(xi * (-homo+lumo))) -((-(-homo*gamma-lumo)/(2)) ** 2 /( 2 * xi **3 * (-homo+lumo) **3)) * (-2*homo + lumo + homo1))/((-homo+lumo) ** -1) + b\n",
        "\n",
        "Q6R1"
      ]
    },
    {
      "cell_type": "code",
      "execution_count": null,
      "metadata": {
        "colab": {
          "base_uri": "https://localhost:8080/",
          "height": 80
        },
        "id": "jYXKEIuHPniN",
        "outputId": "acf339a0-9810-4235-bfd6-34d164906f8d"
      },
      "outputs": [
        {
          "data": {
            "text/latex": [
              "$$ \\displaystyle \\frac{m \\left( \\frac{-\\left( \\frac{-\\left( -homo {\\gamma} - lumo \\right)}{{1} + {\\gamma}} \\right)}{{\\eta} \\left( -homo + lumo \\right)} - \\frac{\\left( \\frac{-\\left( -homo {\\gamma} - lumo \\right)}{{2}} \\right)^{{2}}}{{2} {\\eta}^{{3}} \\left( -homo + lumo \\right)^{{3}}} \\left( -{2} homo + lumo + homo1 \\right) \\right)}{\\left( -homo + lumo \\right)^{{\\alpha}}} + b $$"
            ],
            "text/plain": [
              "<latexify.frontend.LatexifiedFunction at 0x7f51fdaf4b80>"
            ]
          },
          "execution_count": 67,
          "metadata": {},
          "output_type": "execute_result"
        }
      ],
      "source": [
        "@latexify.expression(use_math_symbols=True)\n",
        "def Q6R2(X, m, b, gamma,xi, alpha):\n",
        "  return m * ((-(-(-homo*gamma-lumo)/(1+gamma))/(xi * (-homo+lumo))) -((-(-homo*gamma-lumo)/(2)) ** 2 /( 2 * xi **3 * (-homo+lumo) **3)) * (-2*homo + lumo + homo1))/((-homo+lumo) ** alpha) + b\n",
        "\n",
        "Q6R2"
      ]
    },
    {
      "cell_type": "code",
      "execution_count": null,
      "metadata": {
        "colab": {
          "base_uri": "https://localhost:8080/",
          "height": 83
        },
        "id": "2IF8Mf34PpAd",
        "outputId": "521450b7-f17d-4670-9c0e-6c0c93df45f1"
      },
      "outputs": [
        {
          "data": {
            "text/latex": [
              "$$ \\displaystyle \\frac{m \\left( \\frac{-\\left( \\frac{-\\left( -homo {\\gamma} - lumo \\right)}{{1} + {\\gamma}} \\right)}{{\\xi} \\left( -homo + lumo \\right)} - h \\frac{\\left( \\frac{-\\left( -homo {\\gamma} - lumo \\right)}{{2}} \\right)^{{2}}}{{2} {\\xi}^{{3}} \\left( -homo + lumo \\right)^{{3}}} \\right)}{\\left( -homo + lumo \\right)^{-{1}}} + b $$"
            ],
            "text/plain": [
              "<latexify.frontend.LatexifiedFunction at 0x7f51fda97a30>"
            ]
          },
          "execution_count": 76,
          "metadata": {},
          "output_type": "execute_result"
        }
      ],
      "source": [
        "@latexify.expression(use_math_symbols=True)\n",
        "def Q7R1(X, m, b, gamma,xi, h):\n",
        "  return m * ((-(-(-homo*gamma-lumo)/(1+gamma))/(xi * (-homo+lumo))) - h * ((-(-homo*gamma-lumo)/(2)) ** 2 /( 2 * xi **3 * (-homo+lumo) **3))) /((-homo+lumo) ** -1) + b\n",
        "\n",
        "Q7R1"
      ]
    },
    {
      "cell_type": "code",
      "execution_count": null,
      "metadata": {
        "colab": {
          "base_uri": "https://localhost:8080/",
          "height": 80
        },
        "id": "oa8PhBbiPq7d",
        "outputId": "90dddd1d-9db3-495e-de5d-f9f825d0cb92"
      },
      "outputs": [
        {
          "data": {
            "text/latex": [
              "$$ \\displaystyle \\frac{m \\left( \\frac{-\\left( \\frac{-\\left( -homo {\\gamma} - lumo \\right)}{{1} + {\\gamma}} \\right)}{{\\xi} \\left( -homo + lumo \\right)} - h \\frac{\\left( \\frac{-\\left( -homo {\\gamma} - lumo \\right)}{{2}} \\right)^{{2}}}{{2} {\\xi}^{{3}} \\left( -homo + lumo \\right)^{{3}}} \\right)}{\\left( -homo + lumo \\right)^{{\\alpha}}} + b $$"
            ],
            "text/plain": [
              "<latexify.frontend.LatexifiedFunction at 0x7f51fe5dac40>"
            ]
          },
          "execution_count": 77,
          "metadata": {},
          "output_type": "execute_result"
        }
      ],
      "source": [
        "@latexify.expression(use_math_symbols=True)\n",
        "def Q7R2(X, m, b, gamma,xi, h, alpha):\n",
        "  return m * ((-(-(-homo*gamma-lumo)/(1+gamma))/(xi * (-homo+lumo))) - h * ((-(-homo*gamma-lumo)/(2)) ** 2 /( 2 * xi **3 * (-homo+lumo) **3))) /((-homo+lumo) ** alpha) + b\n",
        "\n",
        "Q7R2"
      ]
    },
    {
      "cell_type": "code",
      "execution_count": null,
      "metadata": {
        "colab": {
          "base_uri": "https://localhost:8080/",
          "height": 83
        },
        "id": "DrbbDrRuPskF",
        "outputId": "112c8166-b2ca-43d7-e299-9ce36d4185f0"
      },
      "outputs": [
        {
          "data": {
            "text/latex": [
              "$$ \\displaystyle \\frac{m \\left( \\frac{-\\left( \\frac{-\\left( -homo {\\gamma} - lumo \\right)}{{1} + {\\gamma}} \\right)}{{\\xi} \\left( -homo + lumo \\right)} - a \\frac{\\left( \\frac{-\\left( -homo {\\gamma} - lumo \\right)}{{2}} \\right)^{{2}}}{{2} {\\xi}^{{2}} \\left( -homo + lumo \\right)^{{2}}} \\right)}{\\left( -homo + lumo \\right)^{-{1}}} + b $$"
            ],
            "text/plain": [
              "<latexify.frontend.LatexifiedFunction at 0x7f51fda97e50>"
            ]
          },
          "execution_count": 78,
          "metadata": {},
          "output_type": "execute_result"
        }
      ],
      "source": [
        "@latexify.expression(use_math_symbols=True)\n",
        "def Q8R1(X, m, b, gamma,xi, a):\n",
        "  return m * ((-(-(-homo*gamma-lumo)/(1+gamma))/(xi * (-homo+lumo))) - a * ((-(-homo*gamma-lumo)/(2)) ** 2 /( 2 * xi **2 * (-homo+lumo) ** 2))) /((-homo+lumo) ** -1) + b\n",
        "\n",
        "Q8R1"
      ]
    },
    {
      "cell_type": "code",
      "execution_count": 7,
      "metadata": {
        "colab": {
          "base_uri": "https://localhost:8080/",
          "height": 80
        },
        "id": "pTQ-lGfHPuEQ",
        "outputId": "14738474-be5b-4455-cca4-e8c1c8d3c9d7"
      },
      "outputs": [
        {
          "data": {
            "text/latex": [
              "$$ \\displaystyle \\frac{m \\left( \\frac{-\\left( \\frac{-\\left( -homo {\\gamma} - lumo \\right)}{{1} + {\\gamma}} \\right)}{{\\xi} \\left( -homo + lumo \\right)} - a \\frac{\\left( \\frac{-\\left( -homo {\\gamma} - lumo \\right)}{{2}} \\right)^{{2}}}{{2} {\\xi}^{{2}} \\left( -homo + lumo \\right)^{{2}}} \\right)}{\\left( -homo + lumo \\right)^{{\\alpha}}} + b $$"
            ],
            "text/plain": [
              "<latexify.frontend.LatexifiedFunction at 0x276663801c0>"
            ]
          },
          "execution_count": 7,
          "metadata": {},
          "output_type": "execute_result"
        }
      ],
      "source": [
        "@latexify.expression(use_math_symbols=True)\n",
        "def Q8R2(X, m, b, gamma, xi, a, alpha):\n",
        "  return m * ((-(-(-homo * gamma - lumo)/(1 + gamma))/(xi * (-homo + lumo))) - a * ((-(-homo * gamma - lumo)/(2)) ** 2 /( 2 * xi ** 2 * (-homo + lumo) ** 2)) )/((-homo + lumo) ** alpha) + b\n",
        "\n",
        "Q8R2"
      ]
    }
  ],
  "metadata": {
    "colab": {
      "provenance": []
    },
    "kernelspec": {
      "display_name": "Python 3",
      "name": "python3"
    },
    "language_info": {
      "codemirror_mode": {
        "name": "ipython",
        "version": 3
      },
      "file_extension": ".py",
      "mimetype": "text/x-python",
      "name": "python",
      "nbconvert_exporter": "python",
      "pygments_lexer": "ipython3",
      "version": "3.10.11"
    }
  },
  "nbformat": 4,
  "nbformat_minor": 0
}
